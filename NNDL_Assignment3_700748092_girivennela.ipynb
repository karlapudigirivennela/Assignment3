class Emp:
    count=0 
    emps=[] 
    def _init_(self,name,family,salary,dept):
        self.name=name
        self.family=family
        self.salary=salary
        self.dept=dept
        Emp.count=Emp.count+1 
        Emp.emps.append(self) 
        

    def average_salary(self):
        return sum(emp.salary for emp in Emp.emps) / Emp.count
    
class Fulltime_Emp(Emp):
        pass
    

#creating instances for above classes
#creating instances for above classes 
emp1=Emp("Sai Prakash","Podapati",9999,"CS")
emp2=Emp("ASP",".net",8888,"CS")
full_time_emp = Fulltime_Emp("Uma", "Bankari", 9998, "Managment")


#Accessing the classes using instances 
print(emp1.average_salary())
print(emp2.average_salary())
print(full_time_emp.average_salary())
9628.333333333334
9628.333333333334
9628.333333333334
import numpy as np
import numpy as np 

sampl=np.random.uniform(low=1,high=20,size=20) 
reshape_arr=sampl.reshape((4,5)) 
print(reshape_arr)
np.where(reshape_arr== np.max(reshape_arr, axis=1, keepdims=True), 0, reshape_arr)
[[13.01345885 18.6416655   2.71126417  2.95176493  2.82556929]
 [15.11448164  4.85462904 17.01605015 19.976577   13.44515801]
 [15.04591039 10.89052114  9.13075522 15.19077867 10.53239743]
 [ 3.71362359  4.78911953  5.92488102  3.14479589 11.44156515]]
array([[13.01345885,  0.        ,  2.71126417,  2.95176493,  2.82556929],
       [15.11448164,  4.85462904, 17.01605015,  0.        , 13.44515801],
       [15.04591039, 10.89052114,  9.13075522,  0.        , 10.53239743],
       [ 3.71362359,  4.78911953,  5.92488102,  3.14479589,  0.        ]])
