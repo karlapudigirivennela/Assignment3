{
 "cells": [
  {
   "cell_type": "code",
   "execution_count": 2,
   "metadata": {},
   "outputs": [
    {
     "name": "stdout",
     "output_type": "stream",
     "text": [
      "9628.333333333334\n",
      "9628.333333333334\n",
      "9628.333333333334\n"
     ]
    }
   ],
   "source": [
    "class Emp:\n",
    "    count=0 \n",
    "    emps=[] \n",
    "    def _init_(self,name,family,salary,dept):\n",
    "        self.name=name\n",
    "        self.family=family\n",
    "        self.salary=salary\n",
    "        self.dept=dept\n",
    "        Emp.count=Emp.count+1 \n",
    "        Emp.emps.append(self) \n",
    "        \n",
    "\n",
    "    def average_salary(self):\n",
    "        return sum(emp.salary for emp in Emp.emps) / Emp.count\n"…
