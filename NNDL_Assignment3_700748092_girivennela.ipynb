{
 "cells": [
  {
   "cell_type": "code",
   "execution_count": 14,
   "id": "c1b8e2da",
   "metadata": {},
   "outputs": [
    {
     "name": "stdout",
     "output_type": "stream",
     "text": [
      "9628.333333333334\n",
      "9628.333333333334\n",
      "9628.333333333334\n"
     ]
    }
   ],
   "source": [
    "class Emp:\n",
    "    count=0 \n",
    "    emps=[] \n",
    "    def __init__(self,name,family,salary,dept):\n",
    "        self.name=name\n",
    "        self.family=family\n",
    "        self.salary=salary\n",
    "        self.dept=dept\n",
    "        Emp.count=Emp.count+1 \n",
    "        Emp.emps.append(self) \n",
    "        \n",
    "\n",
    "    def average_salary(self):\n",
    "        return sum(emp.salary for emp in Emp.emps) / Emp.count\n",
    "    \n",
    "class Fulltime_Emp(Emp):\n",
    "        pass\n",
    "    \n",
    "\n",
    "#creating instances for above classes \n",
    "emp1=Emp(\"Sai Prakash\",\"Podapati\",9999,\"CS\")\n",
    "emp2=Emp(\"ASP\",\".net\",8888,\"CS\")\n",
    "full_time_emp = Fulltime_Emp(\"Uma\", \"Bankari\", 9998, \"Managment\")\n",
    "\n",
    "\n",
    "#Accessing the classes using instances \n",
    "print(emp1.average_salary())\n",
    "print(emp2.average_salary())\n",
    "print(full_time_emp.average_salary())\n"
   ]
  },
  {
   "cell_type": "code",
   "execution_count": 8,
   "id": "26e82b0c",
   "metadata": {},
   "outputs": [
    {
     "name": "stdout",
     "output_type": "stream",
     "text": [
      "[[12.86318339  1.49569304  3.8422182  12.45086312 13.59239865]\n",
      " [11.32312672  3.44901832  8.06154891 17.84729258  5.07941713]\n",
      " [ 3.90739782 19.67398355  9.58965686  9.10727612 19.3118025 ]\n",
      " [13.56850439 16.08267558  2.56828432  7.4763154   7.95323708]]\n"
     ]
    },
    {
     "data": {
      "text/plain": [
       "array([[12.86318339,  1.49569304,  3.8422182 , 12.45086312,  0.        ],\n",
       "       [11.32312672,  3.44901832,  8.06154891,  0.        ,  5.07941713],\n",
       "       [ 3.90739782,  0.        ,  9.58965686,  9.10727612, 19.3118025 ],\n",
       "       [13.56850439,  0.        ,  2.56828432,  7.4763154 ,  7.95323708]])"
      ]
     },
     "execution_count": 8,
     "metadata": {},
     "output_type": "execute_result"
    }
   ],
   "source": [
    "import numpy as np\n",
    "import numpy as np \n",
    "\n",
    "sampl=np.random.uniform(low=1,high=20,size=20) \n",
    "reshape_arr=sampl.reshape((4,5)) \n",
    "print(reshape_arr)\n",
    "np.where(reshape_arr== np.max(reshape_arr, axis=1, keepdims=True), 0, reshape_arr)\n"
   ]
  },
  {
   "cell_type": "code",
   "execution_count": null,
   "id": "0e650604",
   "metadata": {},
   "outputs": [],
   "source": []
  }
 ],
 "metadata": {
  "kernelspec": {
   "display_name": "Python 3 (ipykernel)",
   "language": "python",
   "name": "python3"
  },
  "language_info": {
   "codemirror_mode": {
    "name": "ipython",
    "version": 3
   },
   "file_extension": ".py",
   "mimetype": "text/x-python",
   "name": "python",
   "nbconvert_exporter": "python",
   "pygments_lexer": "ipython3",
   "version": "3.9.12"
  }
 },
 "nbformat": 4,
 "nbformat_minor": 5
}
